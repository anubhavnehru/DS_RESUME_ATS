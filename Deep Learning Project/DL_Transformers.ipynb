{
  "nbformat": 4,
  "nbformat_minor": 0,
  "metadata": {
    "colab": {
      "provenance": [],
      "gpuType": "T4"
    },
    "kernelspec": {
      "name": "python3",
      "display_name": "Python 3"
    },
    "language_info": {
      "name": "python"
    },
    "accelerator": "GPU"
  },
  "cells": [
    {
      "cell_type": "code",
      "execution_count": 1,
      "metadata": {
        "id": "bQHaCg0rQbWI"
      },
      "outputs": [],
      "source": [
        "import pandas as pd\n",
        "import numpy as np\n",
        "import matplotlib.pyplot as plt\n",
        "import re\n",
        "from sklearn.model_selection import train_test_split\n",
        "import numpy as np\n",
        "import tensorflow as tf\n",
        "from tensorflow.keras.preprocessing.text import Tokenizer\n",
        "from tensorflow.keras.preprocessing.sequence import pad_sequences\n"
      ]
    },
    {
      "cell_type": "code",
      "source": [
        "from google.colab import files\n",
        "\n",
        "# Upload a single file\n",
        "uploaded = files.upload()"
      ],
      "metadata": {
        "colab": {
          "base_uri": "https://localhost:8080/",
          "height": 74
        },
        "id": "4VMyptU1Qf4q",
        "outputId": "a2eeeed7-dda5-482d-d58d-af2f481a4642"
      },
      "execution_count": 2,
      "outputs": [
        {
          "output_type": "display_data",
          "data": {
            "text/plain": [
              "<IPython.core.display.HTML object>"
            ],
            "text/html": [
              "\n",
              "     <input type=\"file\" id=\"files-607af85b-accb-4c10-b626-d76cbc3ba86a\" name=\"files[]\" multiple disabled\n",
              "        style=\"border:none\" />\n",
              "     <output id=\"result-607af85b-accb-4c10-b626-d76cbc3ba86a\">\n",
              "      Upload widget is only available when the cell has been executed in the\n",
              "      current browser session. Please rerun this cell to enable.\n",
              "      </output>\n",
              "      <script>// Copyright 2017 Google LLC\n",
              "//\n",
              "// Licensed under the Apache License, Version 2.0 (the \"License\");\n",
              "// you may not use this file except in compliance with the License.\n",
              "// You may obtain a copy of the License at\n",
              "//\n",
              "//      http://www.apache.org/licenses/LICENSE-2.0\n",
              "//\n",
              "// Unless required by applicable law or agreed to in writing, software\n",
              "// distributed under the License is distributed on an \"AS IS\" BASIS,\n",
              "// WITHOUT WARRANTIES OR CONDITIONS OF ANY KIND, either express or implied.\n",
              "// See the License for the specific language governing permissions and\n",
              "// limitations under the License.\n",
              "\n",
              "/**\n",
              " * @fileoverview Helpers for google.colab Python module.\n",
              " */\n",
              "(function(scope) {\n",
              "function span(text, styleAttributes = {}) {\n",
              "  const element = document.createElement('span');\n",
              "  element.textContent = text;\n",
              "  for (const key of Object.keys(styleAttributes)) {\n",
              "    element.style[key] = styleAttributes[key];\n",
              "  }\n",
              "  return element;\n",
              "}\n",
              "\n",
              "// Max number of bytes which will be uploaded at a time.\n",
              "const MAX_PAYLOAD_SIZE = 100 * 1024;\n",
              "\n",
              "function _uploadFiles(inputId, outputId) {\n",
              "  const steps = uploadFilesStep(inputId, outputId);\n",
              "  const outputElement = document.getElementById(outputId);\n",
              "  // Cache steps on the outputElement to make it available for the next call\n",
              "  // to uploadFilesContinue from Python.\n",
              "  outputElement.steps = steps;\n",
              "\n",
              "  return _uploadFilesContinue(outputId);\n",
              "}\n",
              "\n",
              "// This is roughly an async generator (not supported in the browser yet),\n",
              "// where there are multiple asynchronous steps and the Python side is going\n",
              "// to poll for completion of each step.\n",
              "// This uses a Promise to block the python side on completion of each step,\n",
              "// then passes the result of the previous step as the input to the next step.\n",
              "function _uploadFilesContinue(outputId) {\n",
              "  const outputElement = document.getElementById(outputId);\n",
              "  const steps = outputElement.steps;\n",
              "\n",
              "  const next = steps.next(outputElement.lastPromiseValue);\n",
              "  return Promise.resolve(next.value.promise).then((value) => {\n",
              "    // Cache the last promise value to make it available to the next\n",
              "    // step of the generator.\n",
              "    outputElement.lastPromiseValue = value;\n",
              "    return next.value.response;\n",
              "  });\n",
              "}\n",
              "\n",
              "/**\n",
              " * Generator function which is called between each async step of the upload\n",
              " * process.\n",
              " * @param {string} inputId Element ID of the input file picker element.\n",
              " * @param {string} outputId Element ID of the output display.\n",
              " * @return {!Iterable<!Object>} Iterable of next steps.\n",
              " */\n",
              "function* uploadFilesStep(inputId, outputId) {\n",
              "  const inputElement = document.getElementById(inputId);\n",
              "  inputElement.disabled = false;\n",
              "\n",
              "  const outputElement = document.getElementById(outputId);\n",
              "  outputElement.innerHTML = '';\n",
              "\n",
              "  const pickedPromise = new Promise((resolve) => {\n",
              "    inputElement.addEventListener('change', (e) => {\n",
              "      resolve(e.target.files);\n",
              "    });\n",
              "  });\n",
              "\n",
              "  const cancel = document.createElement('button');\n",
              "  inputElement.parentElement.appendChild(cancel);\n",
              "  cancel.textContent = 'Cancel upload';\n",
              "  const cancelPromise = new Promise((resolve) => {\n",
              "    cancel.onclick = () => {\n",
              "      resolve(null);\n",
              "    };\n",
              "  });\n",
              "\n",
              "  // Wait for the user to pick the files.\n",
              "  const files = yield {\n",
              "    promise: Promise.race([pickedPromise, cancelPromise]),\n",
              "    response: {\n",
              "      action: 'starting',\n",
              "    }\n",
              "  };\n",
              "\n",
              "  cancel.remove();\n",
              "\n",
              "  // Disable the input element since further picks are not allowed.\n",
              "  inputElement.disabled = true;\n",
              "\n",
              "  if (!files) {\n",
              "    return {\n",
              "      response: {\n",
              "        action: 'complete',\n",
              "      }\n",
              "    };\n",
              "  }\n",
              "\n",
              "  for (const file of files) {\n",
              "    const li = document.createElement('li');\n",
              "    li.append(span(file.name, {fontWeight: 'bold'}));\n",
              "    li.append(span(\n",
              "        `(${file.type || 'n/a'}) - ${file.size} bytes, ` +\n",
              "        `last modified: ${\n",
              "            file.lastModifiedDate ? file.lastModifiedDate.toLocaleDateString() :\n",
              "                                    'n/a'} - `));\n",
              "    const percent = span('0% done');\n",
              "    li.appendChild(percent);\n",
              "\n",
              "    outputElement.appendChild(li);\n",
              "\n",
              "    const fileDataPromise = new Promise((resolve) => {\n",
              "      const reader = new FileReader();\n",
              "      reader.onload = (e) => {\n",
              "        resolve(e.target.result);\n",
              "      };\n",
              "      reader.readAsArrayBuffer(file);\n",
              "    });\n",
              "    // Wait for the data to be ready.\n",
              "    let fileData = yield {\n",
              "      promise: fileDataPromise,\n",
              "      response: {\n",
              "        action: 'continue',\n",
              "      }\n",
              "    };\n",
              "\n",
              "    // Use a chunked sending to avoid message size limits. See b/62115660.\n",
              "    let position = 0;\n",
              "    do {\n",
              "      const length = Math.min(fileData.byteLength - position, MAX_PAYLOAD_SIZE);\n",
              "      const chunk = new Uint8Array(fileData, position, length);\n",
              "      position += length;\n",
              "\n",
              "      const base64 = btoa(String.fromCharCode.apply(null, chunk));\n",
              "      yield {\n",
              "        response: {\n",
              "          action: 'append',\n",
              "          file: file.name,\n",
              "          data: base64,\n",
              "        },\n",
              "      };\n",
              "\n",
              "      let percentDone = fileData.byteLength === 0 ?\n",
              "          100 :\n",
              "          Math.round((position / fileData.byteLength) * 100);\n",
              "      percent.textContent = `${percentDone}% done`;\n",
              "\n",
              "    } while (position < fileData.byteLength);\n",
              "  }\n",
              "\n",
              "  // All done.\n",
              "  yield {\n",
              "    response: {\n",
              "      action: 'complete',\n",
              "    }\n",
              "  };\n",
              "}\n",
              "\n",
              "scope.google = scope.google || {};\n",
              "scope.google.colab = scope.google.colab || {};\n",
              "scope.google.colab._files = {\n",
              "  _uploadFiles,\n",
              "  _uploadFilesContinue,\n",
              "};\n",
              "})(self);\n",
              "</script> "
            ]
          },
          "metadata": {}
        },
        {
          "output_type": "stream",
          "name": "stdout",
          "text": [
            "Saving UpdatedResumeDataSet.csv to UpdatedResumeDataSet.csv\n"
          ]
        }
      ]
    },
    {
      "cell_type": "code",
      "source": [
        "resume_data = pd.read_csv('UpdatedResumeDataSet.csv')"
      ],
      "metadata": {
        "id": "FzEFcTvOQh_3"
      },
      "execution_count": 3,
      "outputs": []
    },
    {
      "cell_type": "code",
      "source": [
        "def cleanResume(resumeText):\n",
        "    resumeText = re.sub(r'https?://\\S+', ' ', resumeText)  # remove URLs\n",
        "    resumeText = re.sub(r'RT|cc', ' ', resumeText)  # remove RT and cc\n",
        "    resumeText = re.sub(r'#\\S+', '', resumeText)  # remove hashtags\n",
        "    resumeText = re.sub(r'@\\S+', ' ', resumeText)  # remove mentions\n",
        "    resumeText = re.sub(r'[%s]' % re.escape(\"\"\"!\"#$%&'()*+,-./:;<=>?@[\\]^_`{|}~\"\"\"), ' ', resumeText)  # remove punctuations\n",
        "    resumeText = re.sub(r'[^a-zA-Z0-9\\s]', '', resumeText)  # remove non-alphanumeric characters except whitespace\n",
        "    resumeText = re.sub(r'\\s+', ' ', resumeText)  # remove extra whitespace\n",
        "    return resumeText.strip().lower()\n"
      ],
      "metadata": {
        "id": "noK-lGe9QlZU"
      },
      "execution_count": 4,
      "outputs": []
    },
    {
      "cell_type": "code",
      "source": [
        "resume_data['cleaned_resume'] = resume_data.Resume.apply(lambda x: cleanResume(x))"
      ],
      "metadata": {
        "id": "CQz7cZ2yQlb_"
      },
      "execution_count": 5,
      "outputs": []
    },
    {
      "cell_type": "code",
      "source": [
        "requiredText = resume_data['cleaned_resume']\n",
        "requiredTarget = resume_data['Category']"
      ],
      "metadata": {
        "id": "1J2gvS0TQleZ"
      },
      "execution_count": 6,
      "outputs": []
    },
    {
      "cell_type": "code",
      "source": [
        "label_mapping = {label: idx for idx, label in enumerate(set(requiredTarget))}\n",
        "labels_numerical = [label_mapping[label] for label in requiredTarget]"
      ],
      "metadata": {
        "id": "eUnFDx9gQlhg"
      },
      "execution_count": 7,
      "outputs": []
    },
    {
      "cell_type": "code",
      "source": [
        "# Convert text_data and labels_numerical to numpy arrays\n",
        "text_data_array = np.array(requiredText)\n",
        "labels_array = np.array(labels_numerical)"
      ],
      "metadata": {
        "id": "NaONF23sQll3"
      },
      "execution_count": 8,
      "outputs": []
    },
    {
      "cell_type": "code",
      "source": [
        "# Tokenize text data\n",
        "tokenizer = Tokenizer()\n",
        "tokenizer.fit_on_texts(text_data_array)\n",
        "vocab_size = len(tokenizer.word_index) + 1\n",
        "\n",
        "# Convert text data to sequences and pad them to a maximum length\n",
        "max_length = 500  # Define your desired maximum sequence length\n",
        "sequences = tokenizer.texts_to_sequences(text_data_array)\n",
        "padded_sequences = pad_sequences(sequences, maxlen=max_length, padding='post')\n",
        "\n",
        "# Split data into training and testing sets\n",
        "X_train, X_test, y_train, y_test = train_test_split(padded_sequences, labels_array, test_size=0.2, random_state=42, stratify=labels_array)\n"
      ],
      "metadata": {
        "id": "n_NFTZJVQloI"
      },
      "execution_count": 9,
      "outputs": []
    },
    {
      "cell_type": "code",
      "source": [
        "def build_Transformer(vocab_size, max_length, num_layers, num_heads, embed_dim, feed_forward_dim, dropout_rate, num_classes):\n",
        "    inputs = tf.keras.layers.Input(shape=(max_length,))\n",
        "    embedding_layer = tf.keras.layers.Embedding(vocab_size, embed_dim, input_length=max_length)\n",
        "    x = embedding_layer(inputs)\n",
        "\n",
        "    for _ in range(num_layers):\n",
        "        x = tf.keras.layers.MultiHeadAttention(num_heads=num_heads, key_dim=embed_dim // num_heads)(x, x)\n",
        "        x = tf.keras.layers.Dropout(dropout_rate)(x)\n",
        "        x = tf.keras.layers.LayerNormalization(epsilon=1e-6)(x)\n",
        "\n",
        "        x = tf.keras.layers.Dense(feed_forward_dim, activation='gelu')(x)\n",
        "        x = tf.keras.layers.Dropout(dropout_rate)(x)\n",
        "        x = tf.keras.layers.LayerNormalization(epsilon=1e-6)(x)\n",
        "\n",
        "    x = tf.keras.layers.GlobalAveragePooling1D()(x)\n",
        "    outputs = tf.keras.layers.Dense(num_classes, activation='softmax')(x)\n",
        "\n",
        "    model = tf.keras.Model(inputs=inputs, outputs=outputs)\n",
        "    return model"
      ],
      "metadata": {
        "id": "a1k45JpSQlxQ"
      },
      "execution_count": 17,
      "outputs": []
    },
    {
      "cell_type": "code",
      "source": [
        "num_layers = 4\n",
        "num_heads = 16\n",
        "embed_dim = 128\n",
        "feed_forward_dim = 512\n",
        "dropout_rate = 0.1\n",
        "num_classes = len(np.unique(labels_array))  # Number of unique classes\n"
      ],
      "metadata": {
        "id": "szyk04rORckC"
      },
      "execution_count": 36,
      "outputs": []
    },
    {
      "cell_type": "code",
      "source": [
        "from keras.callbacks import ModelCheckpoint\n",
        "\n",
        "model = build_Transformer(vocab_size, max_length, num_layers, num_heads, embed_dim, feed_forward_dim, dropout_rate, num_classes)\n",
        "model.compile(optimizer='adam', loss='sparse_categorical_crossentropy', metrics=['accuracy'])\n",
        "checkpoint = ModelCheckpoint('best_model.h5', monitor='val_accuracy', save_best_only=True, mode='max', verbose=1)"
      ],
      "metadata": {
        "id": "PuNvyQ3NRfho"
      },
      "execution_count": 37,
      "outputs": []
    },
    {
      "cell_type": "code",
      "source": [
        "model.fit(X_train, y_train, epochs=50, batch_size=16, validation_split=0.2,callbacks=[checkpoint]) # running this two times i.e. 100 epochs\n"
      ],
      "metadata": {
        "colab": {
          "base_uri": "https://localhost:8080/"
        },
        "id": "zJJ8uQrQRgMW",
        "outputId": "03f66e30-7d34-482b-df75-577941d7c6c9"
      },
      "execution_count": 39,
      "outputs": [
        {
          "output_type": "stream",
          "name": "stdout",
          "text": [
            "Epoch 1/50\n",
            "39/39 [==============================] - ETA: 0s - loss: 0.3682 - accuracy: 0.8602\n",
            "Epoch 1: val_accuracy improved from 0.85065 to 0.87662, saving model to best_model.h5\n",
            "39/39 [==============================] - 9s 220ms/step - loss: 0.3682 - accuracy: 0.8602 - val_loss: 0.4305 - val_accuracy: 0.8766\n",
            "Epoch 2/50\n",
            "39/39 [==============================] - ETA: 0s - loss: 0.3666 - accuracy: 0.8439\n",
            "Epoch 2: val_accuracy did not improve from 0.87662\n",
            "39/39 [==============================] - 9s 223ms/step - loss: 0.3666 - accuracy: 0.8439 - val_loss: 0.4399 - val_accuracy: 0.8442\n",
            "Epoch 3/50\n",
            "39/39 [==============================] - ETA: 0s - loss: 0.3741 - accuracy: 0.8585\n",
            "Epoch 3: val_accuracy improved from 0.87662 to 0.88961, saving model to best_model.h5\n",
            "39/39 [==============================] - 8s 211ms/step - loss: 0.3741 - accuracy: 0.8585 - val_loss: 0.4264 - val_accuracy: 0.8896\n",
            "Epoch 4/50\n",
            "39/39 [==============================] - ETA: 0s - loss: 0.3915 - accuracy: 0.8228\n",
            "Epoch 4: val_accuracy did not improve from 0.88961\n",
            "39/39 [==============================] - 8s 207ms/step - loss: 0.3915 - accuracy: 0.8228 - val_loss: 0.5438 - val_accuracy: 0.7857\n",
            "Epoch 5/50\n",
            "39/39 [==============================] - ETA: 0s - loss: 0.4180 - accuracy: 0.8276\n",
            "Epoch 5: val_accuracy did not improve from 0.88961\n",
            "39/39 [==============================] - 9s 223ms/step - loss: 0.4180 - accuracy: 0.8276 - val_loss: 0.7080 - val_accuracy: 0.6818\n",
            "Epoch 6/50\n",
            "39/39 [==============================] - ETA: 0s - loss: 0.5341 - accuracy: 0.7528\n",
            "Epoch 6: val_accuracy did not improve from 0.88961\n",
            "39/39 [==============================] - 8s 204ms/step - loss: 0.5341 - accuracy: 0.7528 - val_loss: 0.4910 - val_accuracy: 0.8506\n",
            "Epoch 7/50\n",
            "39/39 [==============================] - ETA: 0s - loss: 0.5812 - accuracy: 0.7675\n",
            "Epoch 7: val_accuracy did not improve from 0.88961\n",
            "39/39 [==============================] - 9s 222ms/step - loss: 0.5812 - accuracy: 0.7675 - val_loss: 0.5935 - val_accuracy: 0.8247\n",
            "Epoch 8/50\n",
            "39/39 [==============================] - ETA: 0s - loss: 0.7028 - accuracy: 0.6992\n",
            "Epoch 8: val_accuracy did not improve from 0.88961\n",
            "39/39 [==============================] - 9s 226ms/step - loss: 0.7028 - accuracy: 0.6992 - val_loss: 0.6231 - val_accuracy: 0.7403\n",
            "Epoch 9/50\n",
            "39/39 [==============================] - ETA: 0s - loss: 0.7876 - accuracy: 0.6911\n",
            "Epoch 9: val_accuracy did not improve from 0.88961\n",
            "39/39 [==============================] - 9s 226ms/step - loss: 0.7876 - accuracy: 0.6911 - val_loss: 1.7386 - val_accuracy: 0.3506\n",
            "Epoch 10/50\n",
            "39/39 [==============================] - ETA: 0s - loss: 1.6645 - accuracy: 0.4472\n",
            "Epoch 10: val_accuracy did not improve from 0.88961\n",
            "39/39 [==============================] - 9s 219ms/step - loss: 1.6645 - accuracy: 0.4472 - val_loss: 0.8577 - val_accuracy: 0.7532\n",
            "Epoch 11/50\n",
            "39/39 [==============================] - ETA: 0s - loss: 0.7816 - accuracy: 0.6667\n",
            "Epoch 11: val_accuracy did not improve from 0.88961\n",
            "39/39 [==============================] - 9s 221ms/step - loss: 0.7816 - accuracy: 0.6667 - val_loss: 0.6375 - val_accuracy: 0.7273\n",
            "Epoch 12/50\n",
            "39/39 [==============================] - ETA: 0s - loss: 0.5009 - accuracy: 0.7935\n",
            "Epoch 12: val_accuracy did not improve from 0.88961\n",
            "39/39 [==============================] - 8s 208ms/step - loss: 0.5009 - accuracy: 0.7935 - val_loss: 0.4946 - val_accuracy: 0.8442\n",
            "Epoch 13/50\n",
            "39/39 [==============================] - ETA: 0s - loss: 0.4129 - accuracy: 0.8439\n",
            "Epoch 13: val_accuracy did not improve from 0.88961\n",
            "39/39 [==============================] - 9s 221ms/step - loss: 0.4129 - accuracy: 0.8439 - val_loss: 0.4572 - val_accuracy: 0.8636\n",
            "Epoch 14/50\n",
            "39/39 [==============================] - ETA: 0s - loss: 0.3447 - accuracy: 0.8634\n",
            "Epoch 14: val_accuracy improved from 0.88961 to 0.90909, saving model to best_model.h5\n",
            "39/39 [==============================] - 8s 210ms/step - loss: 0.3447 - accuracy: 0.8634 - val_loss: 0.3954 - val_accuracy: 0.9091\n",
            "Epoch 15/50\n",
            "39/39 [==============================] - ETA: 0s - loss: 0.2968 - accuracy: 0.8959\n",
            "Epoch 15: val_accuracy did not improve from 0.90909\n",
            "39/39 [==============================] - 8s 208ms/step - loss: 0.2968 - accuracy: 0.8959 - val_loss: 0.3808 - val_accuracy: 0.8896\n",
            "Epoch 16/50\n",
            "39/39 [==============================] - ETA: 0s - loss: 0.2688 - accuracy: 0.9252\n",
            "Epoch 16: val_accuracy improved from 0.90909 to 0.91558, saving model to best_model.h5\n",
            "39/39 [==============================] - 9s 228ms/step - loss: 0.2688 - accuracy: 0.9252 - val_loss: 0.3387 - val_accuracy: 0.9156\n",
            "Epoch 17/50\n",
            "39/39 [==============================] - ETA: 0s - loss: 0.2566 - accuracy: 0.9301\n",
            "Epoch 17: val_accuracy improved from 0.91558 to 0.92857, saving model to best_model.h5\n",
            "39/39 [==============================] - 9s 226ms/step - loss: 0.2566 - accuracy: 0.9301 - val_loss: 0.3516 - val_accuracy: 0.9286\n",
            "Epoch 18/50\n",
            "39/39 [==============================] - ETA: 0s - loss: 0.3331 - accuracy: 0.8650\n",
            "Epoch 18: val_accuracy did not improve from 0.92857\n",
            "39/39 [==============================] - 9s 219ms/step - loss: 0.3331 - accuracy: 0.8650 - val_loss: 0.4538 - val_accuracy: 0.8896\n",
            "Epoch 19/50\n",
            "39/39 [==============================] - ETA: 0s - loss: 0.4761 - accuracy: 0.8033\n",
            "Epoch 19: val_accuracy did not improve from 0.92857\n",
            "39/39 [==============================] - 8s 207ms/step - loss: 0.4761 - accuracy: 0.8033 - val_loss: 0.7131 - val_accuracy: 0.6688\n",
            "Epoch 20/50\n",
            "39/39 [==============================] - ETA: 0s - loss: 0.6690 - accuracy: 0.7301\n",
            "Epoch 20: val_accuracy did not improve from 0.92857\n",
            "39/39 [==============================] - 8s 204ms/step - loss: 0.6690 - accuracy: 0.7301 - val_loss: 1.9077 - val_accuracy: 0.3896\n",
            "Epoch 21/50\n",
            "39/39 [==============================] - ETA: 0s - loss: 0.6945 - accuracy: 0.7203\n",
            "Epoch 21: val_accuracy did not improve from 0.92857\n",
            "39/39 [==============================] - 9s 221ms/step - loss: 0.6945 - accuracy: 0.7203 - val_loss: 0.5657 - val_accuracy: 0.7792\n",
            "Epoch 22/50\n",
            "39/39 [==============================] - ETA: 0s - loss: 0.3851 - accuracy: 0.8537\n",
            "Epoch 22: val_accuracy did not improve from 0.92857\n",
            "39/39 [==============================] - 9s 221ms/step - loss: 0.3851 - accuracy: 0.8537 - val_loss: 0.5534 - val_accuracy: 0.7857\n",
            "Epoch 23/50\n",
            "39/39 [==============================] - ETA: 0s - loss: 0.3502 - accuracy: 0.8764\n",
            "Epoch 23: val_accuracy did not improve from 0.92857\n",
            "39/39 [==============================] - 9s 221ms/step - loss: 0.3502 - accuracy: 0.8764 - val_loss: 0.4640 - val_accuracy: 0.8182\n",
            "Epoch 24/50\n",
            "39/39 [==============================] - ETA: 0s - loss: 0.3298 - accuracy: 0.8667\n",
            "Epoch 24: val_accuracy did not improve from 0.92857\n",
            "39/39 [==============================] - 9s 221ms/step - loss: 0.3298 - accuracy: 0.8667 - val_loss: 0.5122 - val_accuracy: 0.8571\n",
            "Epoch 25/50\n",
            "39/39 [==============================] - ETA: 0s - loss: 0.3435 - accuracy: 0.8780\n",
            "Epoch 25: val_accuracy did not improve from 0.92857\n",
            "39/39 [==============================] - 8s 203ms/step - loss: 0.3435 - accuracy: 0.8780 - val_loss: 0.3848 - val_accuracy: 0.9091\n",
            "Epoch 26/50\n",
            "39/39 [==============================] - ETA: 0s - loss: 0.2974 - accuracy: 0.8943\n",
            "Epoch 26: val_accuracy did not improve from 0.92857\n",
            "39/39 [==============================] - 9s 224ms/step - loss: 0.2974 - accuracy: 0.8943 - val_loss: 0.3889 - val_accuracy: 0.8961\n",
            "Epoch 27/50\n",
            "39/39 [==============================] - ETA: 0s - loss: 0.6906 - accuracy: 0.7366\n",
            "Epoch 27: val_accuracy did not improve from 0.92857\n",
            "39/39 [==============================] - 8s 203ms/step - loss: 0.6906 - accuracy: 0.7366 - val_loss: 0.7483 - val_accuracy: 0.7273\n",
            "Epoch 28/50\n",
            "39/39 [==============================] - ETA: 0s - loss: 1.1481 - accuracy: 0.6098\n",
            "Epoch 28: val_accuracy did not improve from 0.92857\n",
            "39/39 [==============================] - 9s 222ms/step - loss: 1.1481 - accuracy: 0.6098 - val_loss: 1.0274 - val_accuracy: 0.5844\n",
            "Epoch 29/50\n",
            "39/39 [==============================] - ETA: 0s - loss: 0.6987 - accuracy: 0.7073\n",
            "Epoch 29: val_accuracy did not improve from 0.92857\n",
            "39/39 [==============================] - 8s 207ms/step - loss: 0.6987 - accuracy: 0.7073 - val_loss: 0.7739 - val_accuracy: 0.6688\n",
            "Epoch 30/50\n",
            "39/39 [==============================] - ETA: 0s - loss: 0.5019 - accuracy: 0.7772\n",
            "Epoch 30: val_accuracy did not improve from 0.92857\n",
            "39/39 [==============================] - 8s 206ms/step - loss: 0.5019 - accuracy: 0.7772 - val_loss: 0.4217 - val_accuracy: 0.8831\n",
            "Epoch 31/50\n",
            "39/39 [==============================] - ETA: 0s - loss: 0.3663 - accuracy: 0.8585\n",
            "Epoch 31: val_accuracy did not improve from 0.92857\n",
            "39/39 [==============================] - 9s 225ms/step - loss: 0.3663 - accuracy: 0.8585 - val_loss: 0.5060 - val_accuracy: 0.8182\n",
            "Epoch 32/50\n",
            "39/39 [==============================] - ETA: 0s - loss: 0.5819 - accuracy: 0.8033\n",
            "Epoch 32: val_accuracy did not improve from 0.92857\n",
            "39/39 [==============================] - 9s 244ms/step - loss: 0.5819 - accuracy: 0.8033 - val_loss: 0.6904 - val_accuracy: 0.8052\n",
            "Epoch 33/50\n",
            "39/39 [==============================] - ETA: 0s - loss: 0.9063 - accuracy: 0.6520\n",
            "Epoch 33: val_accuracy did not improve from 0.92857\n",
            "39/39 [==============================] - 8s 215ms/step - loss: 0.9063 - accuracy: 0.6520 - val_loss: 0.7238 - val_accuracy: 0.7143\n",
            "Epoch 34/50\n",
            "39/39 [==============================] - ETA: 0s - loss: 0.7355 - accuracy: 0.7301\n",
            "Epoch 34: val_accuracy did not improve from 0.92857\n",
            "39/39 [==============================] - 9s 234ms/step - loss: 0.7355 - accuracy: 0.7301 - val_loss: 0.6586 - val_accuracy: 0.7662\n",
            "Epoch 35/50\n",
            "39/39 [==============================] - ETA: 0s - loss: 0.7643 - accuracy: 0.6943\n",
            "Epoch 35: val_accuracy did not improve from 0.92857\n",
            "39/39 [==============================] - 8s 217ms/step - loss: 0.7643 - accuracy: 0.6943 - val_loss: 0.6658 - val_accuracy: 0.7597\n",
            "Epoch 36/50\n",
            "39/39 [==============================] - ETA: 0s - loss: 0.4571 - accuracy: 0.8390\n",
            "Epoch 36: val_accuracy did not improve from 0.92857\n",
            "39/39 [==============================] - 9s 221ms/step - loss: 0.4571 - accuracy: 0.8390 - val_loss: 0.3604 - val_accuracy: 0.9026\n",
            "Epoch 37/50\n",
            "39/39 [==============================] - ETA: 0s - loss: 0.2582 - accuracy: 0.9138\n",
            "Epoch 37: val_accuracy did not improve from 0.92857\n",
            "39/39 [==============================] - 8s 204ms/step - loss: 0.2582 - accuracy: 0.9138 - val_loss: 0.4539 - val_accuracy: 0.8052\n",
            "Epoch 38/50\n",
            "39/39 [==============================] - ETA: 0s - loss: 0.2432 - accuracy: 0.9268\n",
            "Epoch 38: val_accuracy did not improve from 0.92857\n",
            "39/39 [==============================] - 9s 222ms/step - loss: 0.2432 - accuracy: 0.9268 - val_loss: 0.3013 - val_accuracy: 0.9286\n",
            "Epoch 39/50\n",
            "39/39 [==============================] - ETA: 0s - loss: 0.2029 - accuracy: 0.9415\n",
            "Epoch 39: val_accuracy improved from 0.92857 to 0.94156, saving model to best_model.h5\n",
            "39/39 [==============================] - 8s 213ms/step - loss: 0.2029 - accuracy: 0.9415 - val_loss: 0.2974 - val_accuracy: 0.9416\n",
            "Epoch 40/50\n",
            "39/39 [==============================] - ETA: 0s - loss: 0.1823 - accuracy: 0.9659\n",
            "Epoch 40: val_accuracy improved from 0.94156 to 0.96753, saving model to best_model.h5\n",
            "39/39 [==============================] - 9s 227ms/step - loss: 0.1823 - accuracy: 0.9659 - val_loss: 0.2546 - val_accuracy: 0.9675\n",
            "Epoch 41/50\n",
            "39/39 [==============================] - ETA: 0s - loss: 0.1650 - accuracy: 0.9675\n",
            "Epoch 41: val_accuracy improved from 0.96753 to 0.98052, saving model to best_model.h5\n",
            "39/39 [==============================] - 8s 211ms/step - loss: 0.1650 - accuracy: 0.9675 - val_loss: 0.2487 - val_accuracy: 0.9805\n",
            "Epoch 42/50\n",
            "39/39 [==============================] - ETA: 0s - loss: 0.1521 - accuracy: 0.9610\n",
            "Epoch 42: val_accuracy did not improve from 0.98052\n",
            "39/39 [==============================] - 8s 206ms/step - loss: 0.1521 - accuracy: 0.9610 - val_loss: 0.2140 - val_accuracy: 0.9740\n",
            "Epoch 43/50\n",
            "39/39 [==============================] - ETA: 0s - loss: 0.1316 - accuracy: 0.9805\n",
            "Epoch 43: val_accuracy did not improve from 0.98052\n",
            "39/39 [==============================] - 8s 205ms/step - loss: 0.1316 - accuracy: 0.9805 - val_loss: 0.2143 - val_accuracy: 0.9740\n",
            "Epoch 44/50\n",
            "39/39 [==============================] - ETA: 0s - loss: 0.1200 - accuracy: 0.9837\n",
            "Epoch 44: val_accuracy did not improve from 0.98052\n",
            "39/39 [==============================] - 8s 208ms/step - loss: 0.1200 - accuracy: 0.9837 - val_loss: 0.1960 - val_accuracy: 0.9740\n",
            "Epoch 45/50\n",
            "39/39 [==============================] - ETA: 0s - loss: 0.1661 - accuracy: 0.9528\n",
            "Epoch 45: val_accuracy did not improve from 0.98052\n",
            "39/39 [==============================] - 8s 206ms/step - loss: 0.1661 - accuracy: 0.9528 - val_loss: 0.4121 - val_accuracy: 0.8377\n",
            "Epoch 46/50\n",
            "39/39 [==============================] - ETA: 0s - loss: 0.4050 - accuracy: 0.8520\n",
            "Epoch 46: val_accuracy did not improve from 0.98052\n",
            "39/39 [==============================] - 8s 205ms/step - loss: 0.4050 - accuracy: 0.8520 - val_loss: 0.8156 - val_accuracy: 0.7662\n",
            "Epoch 47/50\n",
            "39/39 [==============================] - ETA: 0s - loss: 0.9166 - accuracy: 0.6846\n",
            "Epoch 47: val_accuracy did not improve from 0.98052\n",
            "39/39 [==============================] - 8s 206ms/step - loss: 0.9166 - accuracy: 0.6846 - val_loss: 1.3198 - val_accuracy: 0.6299\n",
            "Epoch 48/50\n",
            "39/39 [==============================] - ETA: 0s - loss: 0.7037 - accuracy: 0.6943\n",
            "Epoch 48: val_accuracy did not improve from 0.98052\n",
            "39/39 [==============================] - 8s 207ms/step - loss: 0.7037 - accuracy: 0.6943 - val_loss: 0.8270 - val_accuracy: 0.7338\n",
            "Epoch 49/50\n",
            "39/39 [==============================] - ETA: 0s - loss: 0.5307 - accuracy: 0.7935\n",
            "Epoch 49: val_accuracy did not improve from 0.98052\n",
            "39/39 [==============================] - 9s 221ms/step - loss: 0.5307 - accuracy: 0.7935 - val_loss: 0.4462 - val_accuracy: 0.8442\n",
            "Epoch 50/50\n",
            "39/39 [==============================] - ETA: 0s - loss: 0.3080 - accuracy: 0.8683\n",
            "Epoch 50: val_accuracy did not improve from 0.98052\n",
            "39/39 [==============================] - 8s 205ms/step - loss: 0.3080 - accuracy: 0.8683 - val_loss: 0.3285 - val_accuracy: 0.9091\n"
          ]
        },
        {
          "output_type": "execute_result",
          "data": {
            "text/plain": [
              "<keras.src.callbacks.History at 0x7c0eb0192fe0>"
            ]
          },
          "metadata": {},
          "execution_count": 39
        }
      ]
    },
    {
      "cell_type": "code",
      "source": [
        "from keras.models import load_model\n",
        "\n",
        "best_model = load_model('best_model.h5')\n",
        "\n",
        "# Evaluate the best model on the test data\n",
        "test_loss, test_accuracy = best_model.evaluate(X_test, y_test)"
      ],
      "metadata": {
        "colab": {
          "base_uri": "https://localhost:8080/"
        },
        "id": "IpdwKIHnXaSS",
        "outputId": "caaf1c2c-5dc7-4e87-faa7-f3ad743d1141"
      },
      "execution_count": 40,
      "outputs": [
        {
          "output_type": "stream",
          "name": "stdout",
          "text": [
            "7/7 [==============================] - 1s 116ms/step - loss: 0.1530 - accuracy: 0.9845\n"
          ]
        }
      ]
    },
    {
      "cell_type": "code",
      "source": [
        "test_accuracy"
      ],
      "metadata": {
        "colab": {
          "base_uri": "https://localhost:8080/"
        },
        "id": "tWKAtrvOXdnk",
        "outputId": "9c7f6fb2-e647-49b8-e7f0-78477d8dc05c"
      },
      "execution_count": 41,
      "outputs": [
        {
          "output_type": "execute_result",
          "data": {
            "text/plain": [
              "0.984455943107605"
            ]
          },
          "metadata": {},
          "execution_count": 41
        }
      ]
    }
  ]
}